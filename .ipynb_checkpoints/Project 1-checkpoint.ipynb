{
 "cells": [
  {
   "cell_type": "code",
   "execution_count": null,
   "metadata": {},
   "outputs": [],
   "source": [
    "import numpy as np\n",
    "import matplotlib.pyplot as plt\n",
    "import pandas as pd\n",
    "dataset = pd.read_csv('projects/data.csv')\n",
    "dataset.head()"
   ]
  },
  {
   "cell_type": "code",
   "execution_count": null,
   "metadata": {},
   "outputs": [],
   "source": [
    "dataset.info()"
   ]
  },
  {
   "cell_type": "code",
   "execution_count": null,
   "metadata": {},
   "outputs": [],
   "source": [
    "dataset.columns"
   ]
  },
  {
   "cell_type": "code",
   "execution_count": null,
   "metadata": {},
   "outputs": [],
   "source": [
    "dataset.iloc[0]"
   ]
  },
  {
   "cell_type": "markdown",
   "metadata": {},
   "source": [
    "## Simple EDA\n",
    "- 포지션 별 overall,potential 통계"
   ]
  },
  {
   "cell_type": "code",
   "execution_count": null,
   "metadata": {},
   "outputs": [],
   "source": [
    "dataset['Position'].value_counts(dropna=False)\n",
    "dataset = dataset[pd.notnull(dataset['Position'])]\n",
    "#Position\n",
    "positionList = list(dataset.Position.unique())\n",
    "meanPosO=[] \n",
    "meanPosP = []\n",
    "for pos in positionList:\n",
    "    tempPos = dataset[dataset.Position == pos]\n",
    "    meanO = sum(tempPos.Overall)/len(tempPos)\n",
    "    meanP = sum(tempPos.Potential)/len(tempPos)\n",
    "    meanPosO.append(meanO)\n",
    "    meanPosP.append(meanP)\n",
    "print(meanPosO)\n",
    "print(meanPosP)"
   ]
  },
  {
   "cell_type": "code",
   "execution_count": null,
   "metadata": {},
   "outputs": [],
   "source": [
    "fig = plt.figure(figsize=(15,7))\n",
    "plt.plot(positionList,meanPosO,label = 'Overall')\n",
    "plt.plot(positionList,meanPosP,color='green',label = 'Potential')\n",
    "plt.title('potential and overall for positions')\n",
    "plt.xlabel('Positions')\n",
    "plt.ylabel('mean values')"
   ]
  },
  {
   "cell_type": "code",
   "execution_count": null,
   "metadata": {},
   "outputs": [],
   "source": []
  },
  {
   "cell_type": "code",
   "execution_count": null,
   "metadata": {},
   "outputs": [],
   "source": []
  },
  {
   "cell_type": "markdown",
   "metadata": {},
   "source": [
    "##### 어떤 feature가 wage와 value에 가장 큰 영향을 미칠까?\n",
    "- 쓸모없는 칼럼을 제거하는 작업을 먼저 해준다."
   ]
  },
  {
   "cell_type": "code",
   "execution_count": null,
   "metadata": {},
   "outputs": [],
   "source": [
    "processed_cols = ['Unnamed: 0','Photo','Flag','Club Logo', 'Special','Body Type','Real Face','Jersey Number','Joined','Loaned From','Contract Valid Until','LS', 'ST', 'RS', 'LW', 'LF', 'CF', 'RF', 'RW',\n",
    "       'LAM', 'CAM', 'RAM', 'LM', 'LCM', 'CM', 'RCM', 'RM', 'LWB', 'LDM',\n",
    "       'CDM', 'RDM', 'RWB', 'LB', 'LCB', 'CB', 'RCB', 'RB','GKDiving','GKHandling','GKKicking','GKPositioning','GKReflexes']\n",
    "df = dataset.drop(processed_cols, axis=1)"
   ]
  },
  {
   "cell_type": "code",
   "execution_count": null,
   "metadata": {},
   "outputs": [],
   "source": [
    "df.head()"
   ]
  },
  {
   "cell_type": "code",
   "execution_count": null,
   "metadata": {},
   "outputs": [],
   "source": [
    "df = df.dropna()"
   ]
  },
  {
   "cell_type": "code",
   "execution_count": null,
   "metadata": {},
   "outputs": [],
   "source": [
    "df.info()"
   ]
  },
  {
   "cell_type": "code",
   "execution_count": null,
   "metadata": {},
   "outputs": [],
   "source": [
    "#근데 일단 wage와 Value에 대한 모델을 만들껀데 해당 칼럼들의 값들이 숫자가 아니라서 이를 숫자로 변환시켜야합니다.\n",
    "value_suffix = [df.Value.iloc[i][-1] for i in range(len(df.Value))]\n",
    "wage_suffix = [df.Wage.iloc[i][-1] for i in range(len(df.Value))]"
   ]
  },
  {
   "cell_type": "code",
   "execution_count": null,
   "metadata": {},
   "outputs": [],
   "source": [
    "df['Value Factor'] = value_suffix\n",
    "df['Wage Factor'] = wage_suffix"
   ]
  },
  {
   "cell_type": "code",
   "execution_count": null,
   "metadata": {},
   "outputs": [],
   "source": [
    "factors_dict = {'M':1000000,\n",
    "               'K':1000,\n",
    "               0:1}"
   ]
  },
  {
   "cell_type": "code",
   "execution_count": null,
   "metadata": {},
   "outputs": [],
   "source": [
    "df.replace({'Value Factor': factors_dict}, inplace=True)\n",
    "df.replace({'Wage Factor': factors_dict}, inplace=True)"
   ]
  },
  {
   "cell_type": "code",
   "execution_count": null,
   "metadata": {},
   "outputs": [],
   "source": [
    "df.head()"
   ]
  },
  {
   "cell_type": "code",
   "execution_count": null,
   "metadata": {},
   "outputs": [],
   "source": [
    "df['Value Factor'] = pd.to_numeric(df['Value Factor']) #str to numeric\n",
    "df['Wage Factor'] = pd.to_numeric(df['Wage Factor']) #str to numeric"
   ]
  },
  {
   "cell_type": "code",
   "execution_count": null,
   "metadata": {},
   "outputs": [],
   "source": [
    "df.info()"
   ]
  },
  {
   "cell_type": "code",
   "execution_count": null,
   "metadata": {},
   "outputs": [],
   "source": [
    "df['Value'] = df['Value'].str.translate(str.maketrans('', '', '€MK')) #'€MK'가 있으면 ''으로 replace해주는 역할\n",
    "df['Wage'] = df['Wage'].str.translate(str.maketrans('', '', '€MK'))\n",
    "df.head()"
   ]
  },
  {
   "cell_type": "code",
   "execution_count": null,
   "metadata": {},
   "outputs": [],
   "source": [
    "df['Value'] = pd.to_numeric(df['Value']) #마찬가지로 str을 int로바꿔주구\n",
    "df['Wage'] = pd.to_numeric(df['Wage'])\n",
    "#이제 wage value factor들에 곱해줘버립니다.\n",
    "df['Value'] = df['Value'] * df['Value Factor']\n",
    "df['Wage'] = df['Wage'] * df['Wage Factor']\n",
    "\n",
    "#이제 곱셈을위해만든 칼럼 삭제를 하구요\n",
    "df.drop(['Value Factor','Wage Factor'],axis = 1, inplace=True)\n",
    "df.head()"
   ]
  },
  {
   "cell_type": "code",
   "execution_count": null,
   "metadata": {},
   "outputs": [],
   "source": []
  },
  {
   "cell_type": "markdown",
   "metadata": {},
   "source": [
    "## Simple Linear Regression\n",
    "- 먼저 이론적으로 선수의 가치에 가장 연관성이 높을것 같은 Overall을 기준으로 모델을 build해봅니다."
   ]
  },
  {
   "cell_type": "code",
   "execution_count": null,
   "metadata": {},
   "outputs": [],
   "source": [
    "X = df.loc[:,'Overall'].values\n",
    "y_wage = df.loc[:,'Wage'].values\n",
    "y_value = df.loc[:,'Value'].values\n",
    "X = np.expand_dims(X,axis=1)"
   ]
  },
  {
   "cell_type": "code",
   "execution_count": null,
   "metadata": {},
   "outputs": [],
   "source": [
    "from sklearn.model_selection import train_test_split\n",
    "X_wage_train, X_wage_test, y_wage_train, y_wage_test = train_test_split(X, y_wage, test_size = 0.2, random_state = 0)\n",
    "X_value_train, X_value_test, y_value_train, y_value_test = train_test_split(X, y_value, test_size = 0.2, random_state = 0)"
   ]
  },
  {
   "cell_type": "code",
   "execution_count": null,
   "metadata": {},
   "outputs": [],
   "source": [
    "from sklearn.linear_model import LinearRegression\n",
    "SL_regressor_forWage = LinearRegression()\n",
    "SL_regressor_forValue = LinearRegression()\n",
    "SL_regressor_forWage.fit(X_wage_train,y_wage_train)\n",
    "SL_regressor_forValue.fit(X_value_train,y_value_train)"
   ]
  },
  {
   "cell_type": "code",
   "execution_count": null,
   "metadata": {},
   "outputs": [],
   "source": [
    "y_wage_pred = SL_regressor_forWage.predict(X_wage_test)\n",
    "y_value_pred = SL_regressor_forValue.predict(X_value_test)"
   ]
  },
  {
   "cell_type": "code",
   "execution_count": null,
   "metadata": {},
   "outputs": [],
   "source": [
    "plt.scatter(X_wage_train,y_wage_train, color = 'red')\n",
    "plt.plot(X_wage_train,SL_regressor_forWage.predict(X_wage_train),color = 'blue')\n",
    "plt.title('wage model(train)')"
   ]
  },
  {
   "cell_type": "code",
   "execution_count": null,
   "metadata": {},
   "outputs": [],
   "source": [
    "plt.scatter(X_wage_test, y_wage_test, color='red')\n",
    "plt.plot(X_wage_test,y_wage_pred,color='blue')\n",
    "plt.title('wage model(test)')"
   ]
  },
  {
   "cell_type": "code",
   "execution_count": null,
   "metadata": {},
   "outputs": [],
   "source": [
    "plt.scatter(X_value_train,y_value_train, color = 'red')\n",
    "plt.plot(X_value_train,SL_regressor_forValue.predict(X_value_train),color = 'blue')\n",
    "plt.title('value model(train)')"
   ]
  },
  {
   "cell_type": "code",
   "execution_count": null,
   "metadata": {},
   "outputs": [],
   "source": [
    "plt.scatter(X_value_test, y_value_test, color='red')\n",
    "plt.plot(X_value_test,y_value_pred,color='blue')\n",
    "plt.title('value model(test)')"
   ]
  },
  {
   "cell_type": "code",
   "execution_count": null,
   "metadata": {},
   "outputs": [],
   "source": []
  },
  {
   "cell_type": "markdown",
   "metadata": {},
   "source": [
    "##### 예상대로 평범한 Linear Regression으론 좋은 fit을 가지는 모델을 만들기 힘들었다.\n",
    "- 하지만 플롯을 통해 wage보다 value가 overall을 기준으로 더 잘 관계성이 적용되어있는 것을 유추 가능"
   ]
  },
  {
   "cell_type": "code",
   "execution_count": null,
   "metadata": {},
   "outputs": [],
   "source": [
    "X_rf = df.loc[:,['Potential','Overall','Age','International Reputation','Weak Foot','Skill Moves','Crossing', 'Finishing', 'HeadingAccuracy', 'ShortPassing', 'Volleys',\n",
    "       'Dribbling', 'Curve', 'FKAccuracy', 'LongPassing', 'BallControl',\n",
    "       'Acceleration', 'SprintSpeed', 'Agility', 'Reactions', 'Balance',\n",
    "       'ShotPower', 'Jumping', 'Stamina', 'Strength', 'LongShots',\n",
    "       'Aggression', 'Interceptions', 'Positioning', 'Vision', 'Penalties',\n",
    "       'Composure', 'Marking', 'StandingTackle', 'SlidingTackle']].values"
   ]
  },
  {
   "cell_type": "code",
   "execution_count": null,
   "metadata": {},
   "outputs": [],
   "source": [
    "from sklearn.ensemble import RandomForestRegressor\n",
    "rf_wage_regressor = RandomForestRegressor(n_estimators=100)\n",
    "rf_value_regressor = RandomForestRegressor(n_estimators=100)\n",
    "X_wage_train, X_wage_test, y_wage_train, y_wage_test = train_test_split(X_rf, y_wage, test_size = 0.2, random_state = 0)\n",
    "X_value_train, X_value_test, y_value_train, y_value_test = train_test_split(X_rf, y_value, test_size = 0.2, random_state = 0)\n",
    "rf_wage_regressor.fit(X_wage_train,y_wage_train)\n",
    "rf_value_regressor.fit(X_value_train,y_value_train)"
   ]
  },
  {
   "cell_type": "code",
   "execution_count": null,
   "metadata": {},
   "outputs": [],
   "source": [
    "messi = df[df['Name'] == 'L. Messi'].loc[:,['Potential','Overall','Age','International Reputation','Weak Foot','Skill Moves','Crossing', 'Finishing', 'HeadingAccuracy', 'ShortPassing', 'Volleys',\n",
    "       'Dribbling', 'Curve', 'FKAccuracy', 'LongPassing', 'BallControl',\n",
    "       'Acceleration', 'SprintSpeed', 'Agility', 'Reactions', 'Balance',\n",
    "       'ShotPower', 'Jumping', 'Stamina', 'Strength', 'LongShots',\n",
    "       'Aggression', 'Interceptions', 'Positioning', 'Vision', 'Penalties',\n",
    "       'Composure', 'Marking', 'StandingTackle', 'SlidingTackle']].values"
   ]
  },
  {
   "cell_type": "code",
   "execution_count": null,
   "metadata": {},
   "outputs": [],
   "source": [
    "#리오넬 메시(Overall 94)의 시장가치를 Linear Regression모델로 predict 해보죠 \n",
    "print('Linear Regressor says Lionel Messi worth about €',np.asscalar(SL_regressor_forValue.predict([[94]])))\n",
    "#동일한방법으로 메시의 시장가치를 랜덤포레스트 모델로 예측해봅시다.\n",
    "print('Random Forest Regressor says Lionel Messi worth about €',np.asscalar(rf_value_regressor.predict(messi)))"
   ]
  },
  {
   "cell_type": "code",
   "execution_count": null,
   "metadata": {},
   "outputs": [],
   "source": []
  }
 ],
 "metadata": {
  "kernelspec": {
   "display_name": "Python 3",
   "language": "python",
   "name": "python3"
  },
  "language_info": {
   "codemirror_mode": {
    "name": "ipython",
    "version": 3
   },
   "file_extension": ".py",
   "mimetype": "text/x-python",
   "name": "python",
   "nbconvert_exporter": "python",
   "pygments_lexer": "ipython3",
   "version": "3.6.6"
  }
 },
 "nbformat": 4,
 "nbformat_minor": 2
}
