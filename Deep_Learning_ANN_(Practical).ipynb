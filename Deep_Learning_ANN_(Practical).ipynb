{
  "nbformat": 4,
  "nbformat_minor": 0,
  "metadata": {
    "colab": {
      "name": "Deep Learning - ANN (Practical).ipynb",
      "version": "0.3.2",
      "provenance": [],
      "toc_visible": true
    },
    "kernelspec": {
      "name": "python3",
      "display_name": "Python 3"
    },
    "accelerator": "GPU"
  },
  "cells": [
    {
      "metadata": {
        "id": "N4Z-j7DbuNDK",
        "colab_type": "text"
      },
      "cell_type": "markdown",
      "source": [
        "# Let's now build our first neural network!\n",
        "- Before that, install Keras first.\n",
        "- 데이터도 다운받으시고용"
      ]
    },
    {
      "metadata": {
        "id": "MLLqS5JBuNDL",
        "colab_type": "text"
      },
      "cell_type": "markdown",
      "source": [
        "### 들어가기에 앞서 알아야할 딥러닝 관련 Libraries.\n",
        "- Theano, Tensorflow : 수학적으로 신경망 관련 계산수행을 하게 해주는 libraries로써 CPU,GPU같은 컴퓨터 자원들을 사용자의 지정으로 사용하게 해줄수 있지만 Keras에 비교해 신경망 설계를 from scratch 해야한다.\n",
        "- Keras : 위 두 라이브러리들의 기능들을 포함하고 있으며 신경망 관련 build할때 매우 간편하게 도와주는 라이브러리."
      ]
    },
    {
      "metadata": {
        "id": "BOD20b6luNDM",
        "colab_type": "code",
        "colab": {
          "base_uri": "https://localhost:8080/",
          "height": 224
        },
        "outputId": "b5025487-1039-4f87-d168-748601ad7663"
      },
      "cell_type": "code",
      "source": [
        "# Importing the libraries\n",
        "import numpy as np\n",
        "import matplotlib.pyplot as plt\n",
        "import pandas as pd\n",
        "\n",
        "# Importing the dataset\n",
        "dataset = pd.read_csv('Churn_Modelling.csv')\n",
        "dataset.head()"
      ],
      "execution_count": 1,
      "outputs": [
        {
          "output_type": "execute_result",
          "data": {
            "text/html": [
              "<div>\n",
              "<style scoped>\n",
              "    .dataframe tbody tr th:only-of-type {\n",
              "        vertical-align: middle;\n",
              "    }\n",
              "\n",
              "    .dataframe tbody tr th {\n",
              "        vertical-align: top;\n",
              "    }\n",
              "\n",
              "    .dataframe thead th {\n",
              "        text-align: right;\n",
              "    }\n",
              "</style>\n",
              "<table border=\"1\" class=\"dataframe\">\n",
              "  <thead>\n",
              "    <tr style=\"text-align: right;\">\n",
              "      <th></th>\n",
              "      <th>RowNumber</th>\n",
              "      <th>CustomerId</th>\n",
              "      <th>Surname</th>\n",
              "      <th>CreditScore</th>\n",
              "      <th>Geography</th>\n",
              "      <th>Gender</th>\n",
              "      <th>Age</th>\n",
              "      <th>Tenure</th>\n",
              "      <th>Balance</th>\n",
              "      <th>NumOfProducts</th>\n",
              "      <th>HasCrCard</th>\n",
              "      <th>IsActiveMember</th>\n",
              "      <th>EstimatedSalary</th>\n",
              "      <th>Exited</th>\n",
              "    </tr>\n",
              "  </thead>\n",
              "  <tbody>\n",
              "    <tr>\n",
              "      <th>0</th>\n",
              "      <td>1</td>\n",
              "      <td>15634602</td>\n",
              "      <td>Hargrave</td>\n",
              "      <td>619</td>\n",
              "      <td>France</td>\n",
              "      <td>Female</td>\n",
              "      <td>42</td>\n",
              "      <td>2</td>\n",
              "      <td>0.00</td>\n",
              "      <td>1</td>\n",
              "      <td>1</td>\n",
              "      <td>1</td>\n",
              "      <td>101348.88</td>\n",
              "      <td>1</td>\n",
              "    </tr>\n",
              "    <tr>\n",
              "      <th>1</th>\n",
              "      <td>2</td>\n",
              "      <td>15647311</td>\n",
              "      <td>Hill</td>\n",
              "      <td>608</td>\n",
              "      <td>Spain</td>\n",
              "      <td>Female</td>\n",
              "      <td>41</td>\n",
              "      <td>1</td>\n",
              "      <td>83807.86</td>\n",
              "      <td>1</td>\n",
              "      <td>0</td>\n",
              "      <td>1</td>\n",
              "      <td>112542.58</td>\n",
              "      <td>0</td>\n",
              "    </tr>\n",
              "    <tr>\n",
              "      <th>2</th>\n",
              "      <td>3</td>\n",
              "      <td>15619304</td>\n",
              "      <td>Onio</td>\n",
              "      <td>502</td>\n",
              "      <td>France</td>\n",
              "      <td>Female</td>\n",
              "      <td>42</td>\n",
              "      <td>8</td>\n",
              "      <td>159660.80</td>\n",
              "      <td>3</td>\n",
              "      <td>1</td>\n",
              "      <td>0</td>\n",
              "      <td>113931.57</td>\n",
              "      <td>1</td>\n",
              "    </tr>\n",
              "    <tr>\n",
              "      <th>3</th>\n",
              "      <td>4</td>\n",
              "      <td>15701354</td>\n",
              "      <td>Boni</td>\n",
              "      <td>699</td>\n",
              "      <td>France</td>\n",
              "      <td>Female</td>\n",
              "      <td>39</td>\n",
              "      <td>1</td>\n",
              "      <td>0.00</td>\n",
              "      <td>2</td>\n",
              "      <td>0</td>\n",
              "      <td>0</td>\n",
              "      <td>93826.63</td>\n",
              "      <td>0</td>\n",
              "    </tr>\n",
              "    <tr>\n",
              "      <th>4</th>\n",
              "      <td>5</td>\n",
              "      <td>15737888</td>\n",
              "      <td>Mitchell</td>\n",
              "      <td>850</td>\n",
              "      <td>Spain</td>\n",
              "      <td>Female</td>\n",
              "      <td>43</td>\n",
              "      <td>2</td>\n",
              "      <td>125510.82</td>\n",
              "      <td>1</td>\n",
              "      <td>1</td>\n",
              "      <td>1</td>\n",
              "      <td>79084.10</td>\n",
              "      <td>0</td>\n",
              "    </tr>\n",
              "  </tbody>\n",
              "</table>\n",
              "</div>"
            ],
            "text/plain": [
              "   RowNumber  CustomerId   Surname  CreditScore Geography  Gender  Age  \\\n",
              "0          1    15634602  Hargrave          619    France  Female   42   \n",
              "1          2    15647311      Hill          608     Spain  Female   41   \n",
              "2          3    15619304      Onio          502    France  Female   42   \n",
              "3          4    15701354      Boni          699    France  Female   39   \n",
              "4          5    15737888  Mitchell          850     Spain  Female   43   \n",
              "\n",
              "   Tenure    Balance  NumOfProducts  HasCrCard  IsActiveMember  \\\n",
              "0       2       0.00              1          1               1   \n",
              "1       1   83807.86              1          0               1   \n",
              "2       8  159660.80              3          1               0   \n",
              "3       1       0.00              2          0               0   \n",
              "4       2  125510.82              1          1               1   \n",
              "\n",
              "   EstimatedSalary  Exited  \n",
              "0        101348.88       1  \n",
              "1        112542.58       0  \n",
              "2        113931.57       1  \n",
              "3         93826.63       0  \n",
              "4         79084.10       0  "
            ]
          },
          "metadata": {
            "tags": []
          },
          "execution_count": 1
        }
      ]
    },
    {
      "metadata": {
        "id": "cSkn8UxKuNDQ",
        "colab_type": "code",
        "colab": {}
      },
      "cell_type": "code",
      "source": [
        "X = dataset.iloc[:,3:13].values\n",
        "y = dataset.iloc[:,13].values"
      ],
      "execution_count": 0,
      "outputs": []
    },
    {
      "metadata": {
        "id": "5Z-e1cKpuNDS",
        "colab_type": "code",
        "colab": {
          "base_uri": "https://localhost:8080/",
          "height": 139
        },
        "outputId": "cf8c5b82-f910-4666-b2e3-8a3fa59127c2"
      },
      "cell_type": "code",
      "source": [
        "# Encoding categorical data\n",
        "from sklearn.preprocessing import LabelEncoder, OneHotEncoder\n",
        "labelencoder_X_1 = LabelEncoder()\n",
        "X[:, 1] = labelencoder_X_1.fit_transform(X[:, 1])\n",
        "labelencoder_X_2 = LabelEncoder()\n",
        "X[:, 2] = labelencoder_X_2.fit_transform(X[:, 2])\n",
        "onehotencoder = OneHotEncoder(categorical_features = [1])\n",
        "X = onehotencoder.fit_transform(X).toarray()\n",
        "X = X[:, 1:]"
      ],
      "execution_count": 3,
      "outputs": [
        {
          "output_type": "stream",
          "text": [
            "/usr/local/lib/python3.6/dist-packages/sklearn/preprocessing/_encoders.py:368: FutureWarning: The handling of integer data will change in version 0.22. Currently, the categories are determined based on the range [0, max(values)], while in the future they will be determined based on the unique values.\n",
            "If you want the future behaviour and silence this warning, you can specify \"categories='auto'\".\n",
            "In case you used a LabelEncoder before this OneHotEncoder to convert the categories to integers, then you can now use the OneHotEncoder directly.\n",
            "  warnings.warn(msg, FutureWarning)\n",
            "/usr/local/lib/python3.6/dist-packages/sklearn/preprocessing/_encoders.py:390: DeprecationWarning: The 'categorical_features' keyword is deprecated in version 0.20 and will be removed in 0.22. You can use the ColumnTransformer instead.\n",
            "  \"use the ColumnTransformer instead.\", DeprecationWarning)\n"
          ],
          "name": "stderr"
        }
      ]
    },
    {
      "metadata": {
        "id": "tAOEyy1duNDV",
        "colab_type": "code",
        "colab": {}
      },
      "cell_type": "code",
      "source": [
        "# Splitting the dataset into the Training set and Test set\n",
        "from sklearn.model_selection import train_test_split\n",
        "X_train, X_test, y_train, y_test = train_test_split(X, y, test_size = 0.2, random_state = 0)"
      ],
      "execution_count": 0,
      "outputs": []
    },
    {
      "metadata": {
        "id": "rV2ZgmKsuNDY",
        "colab_type": "code",
        "colab": {}
      },
      "cell_type": "code",
      "source": [
        "# Feature Scaling\n",
        "from sklearn.preprocessing import StandardScaler\n",
        "sc = StandardScaler()\n",
        "X_train = sc.fit_transform(X_train)\n",
        "X_test = sc.transform(X_test)"
      ],
      "execution_count": 0,
      "outputs": []
    },
    {
      "metadata": {
        "id": "A016HjwGuNDa",
        "colab_type": "text"
      },
      "cell_type": "markdown",
      "source": [
        "## Preprocess done. Lets build Neural Network!"
      ]
    },
    {
      "metadata": {
        "id": "YoYNAc5TuNDa",
        "colab_type": "code",
        "colab": {
          "base_uri": "https://localhost:8080/",
          "height": 34
        },
        "outputId": "97ca3df4-5d76-4846-89a0-ac0b08716ee6"
      },
      "cell_type": "code",
      "source": [
        "import keras\n",
        "from keras.models import Sequential\n",
        "from keras.layers import Dense"
      ],
      "execution_count": 6,
      "outputs": [
        {
          "output_type": "stream",
          "text": [
            "Using TensorFlow backend.\n"
          ],
          "name": "stderr"
        }
      ]
    },
    {
      "metadata": {
        "id": "G8I-oMsxuNDd",
        "colab_type": "text"
      },
      "cell_type": "markdown",
      "source": [
        "- Sequential : 그래프가 아닌, 딥러닝 모델을 Sequence of Layers로 Initialize 해준다.\n",
        "- Dense : 레이어를 추가할때 Dense를 사용하여 추가시켜주기 위함이다."
      ]
    },
    {
      "metadata": {
        "id": "6_1VCusRuNDe",
        "colab_type": "code",
        "colab": {}
      },
      "cell_type": "code",
      "source": [
        "classifier = Sequential() #NN Initialization"
      ],
      "execution_count": 0,
      "outputs": []
    },
    {
      "metadata": {
        "id": "V6CME8H_uNDg",
        "colab_type": "text"
      },
      "cell_type": "markdown",
      "source": [
        "- 아무것도 존재하지 않는 모델을 생성했으니 이제 input, hidden, output레이어들을 넣어줘야 합니다.\n",
        "- 인풋 노드의 수는 몇개여야 할까요?\n",
        "- 히든 노드의 수는?\n",
        "- Dense 메소드를 통해 히든레이어를 생성할수있는데, 이때 input_dim 을 통해 input노드의 개수에 맞는 input 레이어 까지 같이 생성하게됩니다."
      ]
    },
    {
      "metadata": {
        "id": "Wf3gAQ2SuNDg",
        "colab_type": "code",
        "colab": {
          "base_uri": "https://localhost:8080/",
          "height": 88
        },
        "outputId": "26595684-be82-4daa-cc37-c9cccbc722fb"
      },
      "cell_type": "code",
      "source": [
        "#첫번째 히든레이어 생성(with input layer)\n",
        "#여기선 히든노드의 개수를 input+output의 평균값으로 조정하였음.applies initial weights with uniform distribution\n",
        "classifier.add(Dense(units=6,kernel_initializer = 'uniform',activation = 'relu',input_dim=11))\n"
      ],
      "execution_count": 8,
      "outputs": [
        {
          "output_type": "stream",
          "text": [
            "WARNING:tensorflow:From /usr/local/lib/python3.6/dist-packages/tensorflow/python/framework/op_def_library.py:263: colocate_with (from tensorflow.python.framework.ops) is deprecated and will be removed in a future version.\n",
            "Instructions for updating:\n",
            "Colocations handled automatically by placer.\n"
          ],
          "name": "stdout"
        }
      ]
    },
    {
      "metadata": {
        "id": "yScjNN_AuNDj",
        "colab_type": "code",
        "colab": {}
      },
      "cell_type": "code",
      "source": [
        "#두번째 히든레이어 생성\n",
        "#이건 두번째 히든레이어 생성하는거기 때문에 이미 첫번째 히든레이어에서 몇개의 인풋을 받을지 우리 모델이 알고있으므로 input_dim을 specify할필요가 없음\n",
        "classifier.add(Dense(units=6,kernel_initializer = 'uniform',activation = 'relu')) "
      ],
      "execution_count": 0,
      "outputs": []
    },
    {
      "metadata": {
        "id": "NA1uVCBsuNDl",
        "colab_type": "code",
        "colab": {}
      },
      "cell_type": "code",
      "source": [
        "#아웃풋 레이어 생성\n",
        "#binary classification문제이기 때문에 predicted y가 확률적 값으로 나와야 하므로 Logistic Regression에서 쓰이는 sigmoid activation function을 사용\n",
        "classifier.add(Dense(units=1,kernel_initializer = 'uniform',activation = 'sigmoid')) "
      ],
      "execution_count": 0,
      "outputs": []
    },
    {
      "metadata": {
        "id": "5sI4OXYcuNDn",
        "colab_type": "code",
        "colab": {}
      },
      "cell_type": "code",
      "source": [
        "#모델 컴파일\n",
        "#SGD의 일종인 아담 옵티마이저 사용, loss function은 output layer의 활성함수가 sigmoid이기 때문에 logistic regression에서 사용되는,\n",
        "#log-loss function을 사용.(a.k.a categorical cross entropy)근데 label이 두개밖에안되기때문에 binary cross entropy.\n",
        "classifier.compile(optimizer = 'adam',loss='binary_crossentropy', metrics=['accuracy'])"
      ],
      "execution_count": 0,
      "outputs": []
    },
    {
      "metadata": {
        "id": "46TvwWy3uNDq",
        "colab_type": "text"
      },
      "cell_type": "markdown",
      "source": [
        "- 설계가 끝났으니 드디어 우리 데이터를 신경망에 집어넣어봅시다.\n",
        "- epoch : 데이터셋 전체의 단위.즉 전체 데이터셋을 총 몇번돌릴거냐를 뜻함.\n",
        "- batch : 가중치 업데이트를 데이터 몇개를 돌릴때마다 해줄지에 대한 단위를 뜻함."
      ]
    },
    {
      "metadata": {
        "id": "wJ2MQu1GuNDq",
        "colab_type": "code",
        "colab": {
          "base_uri": "https://localhost:8080/",
          "height": 3505
        },
        "outputId": "9b119585-5e64-4935-c341-4438ef8e868d"
      },
      "cell_type": "code",
      "source": [
        "classifier.fit(X_train, y_train, epochs=100, batch_size=10)\n",
        "#r u ready?"
      ],
      "execution_count": 12,
      "outputs": [
        {
          "output_type": "stream",
          "text": [
            "WARNING:tensorflow:From /usr/local/lib/python3.6/dist-packages/tensorflow/python/ops/math_ops.py:3066: to_int32 (from tensorflow.python.ops.math_ops) is deprecated and will be removed in a future version.\n",
            "Instructions for updating:\n",
            "Use tf.cast instead.\n",
            "Epoch 1/100\n",
            "8000/8000 [==============================] - 6s 743us/step - loss: 0.4838 - acc: 0.7954\n",
            "Epoch 2/100\n",
            "8000/8000 [==============================] - 3s 425us/step - loss: 0.4269 - acc: 0.7960\n",
            "Epoch 3/100\n",
            "8000/8000 [==============================] - 3s 421us/step - loss: 0.4213 - acc: 0.8020\n",
            "Epoch 4/100\n",
            "8000/8000 [==============================] - 3s 419us/step - loss: 0.4177 - acc: 0.8239\n",
            "Epoch 5/100\n",
            "8000/8000 [==============================] - 3s 421us/step - loss: 0.4158 - acc: 0.8281\n",
            "Epoch 6/100\n",
            "8000/8000 [==============================] - 3s 423us/step - loss: 0.4142 - acc: 0.8292\n",
            "Epoch 7/100\n",
            "8000/8000 [==============================] - 3s 422us/step - loss: 0.4128 - acc: 0.8306\n",
            "Epoch 8/100\n",
            "8000/8000 [==============================] - 3s 420us/step - loss: 0.4118 - acc: 0.8324\n",
            "Epoch 9/100\n",
            "8000/8000 [==============================] - 3s 422us/step - loss: 0.4104 - acc: 0.8345\n",
            "Epoch 10/100\n",
            "8000/8000 [==============================] - 3s 424us/step - loss: 0.4093 - acc: 0.8326\n",
            "Epoch 11/100\n",
            "8000/8000 [==============================] - 3s 421us/step - loss: 0.4083 - acc: 0.8334\n",
            "Epoch 12/100\n",
            "8000/8000 [==============================] - 3s 425us/step - loss: 0.4075 - acc: 0.8336\n",
            "Epoch 13/100\n",
            "8000/8000 [==============================] - 3s 419us/step - loss: 0.4070 - acc: 0.8326\n",
            "Epoch 14/100\n",
            "8000/8000 [==============================] - 3s 419us/step - loss: 0.4065 - acc: 0.8331\n",
            "Epoch 15/100\n",
            "8000/8000 [==============================] - 3s 421us/step - loss: 0.4058 - acc: 0.8330\n",
            "Epoch 16/100\n",
            "8000/8000 [==============================] - 3s 418us/step - loss: 0.4051 - acc: 0.8332\n",
            "Epoch 17/100\n",
            "8000/8000 [==============================] - 3s 420us/step - loss: 0.4048 - acc: 0.8337\n",
            "Epoch 18/100\n",
            "8000/8000 [==============================] - 3s 417us/step - loss: 0.4049 - acc: 0.8339\n",
            "Epoch 19/100\n",
            "8000/8000 [==============================] - 3s 421us/step - loss: 0.4046 - acc: 0.8345\n",
            "Epoch 20/100\n",
            "8000/8000 [==============================] - 3s 417us/step - loss: 0.4043 - acc: 0.8340\n",
            "Epoch 21/100\n",
            "8000/8000 [==============================] - 3s 416us/step - loss: 0.4037 - acc: 0.8354\n",
            "Epoch 22/100\n",
            "8000/8000 [==============================] - 3s 419us/step - loss: 0.4037 - acc: 0.8341\n",
            "Epoch 23/100\n",
            "8000/8000 [==============================] - 3s 415us/step - loss: 0.4034 - acc: 0.8356\n",
            "Epoch 24/100\n",
            "8000/8000 [==============================] - 3s 421us/step - loss: 0.4033 - acc: 0.8350\n",
            "Epoch 25/100\n",
            "8000/8000 [==============================] - 3s 417us/step - loss: 0.4034 - acc: 0.8335\n",
            "Epoch 26/100\n",
            "8000/8000 [==============================] - 3s 419us/step - loss: 0.4031 - acc: 0.8344\n",
            "Epoch 27/100\n",
            "8000/8000 [==============================] - 3s 416us/step - loss: 0.4027 - acc: 0.8350\n",
            "Epoch 28/100\n",
            "8000/8000 [==============================] - 3s 419us/step - loss: 0.4029 - acc: 0.8345\n",
            "Epoch 29/100\n",
            "8000/8000 [==============================] - 3s 419us/step - loss: 0.4027 - acc: 0.8342\n",
            "Epoch 30/100\n",
            "8000/8000 [==============================] - 3s 422us/step - loss: 0.4023 - acc: 0.8344\n",
            "Epoch 31/100\n",
            "8000/8000 [==============================] - 3s 418us/step - loss: 0.4018 - acc: 0.8346\n",
            "Epoch 32/100\n",
            "8000/8000 [==============================] - 3s 419us/step - loss: 0.4024 - acc: 0.8326\n",
            "Epoch 33/100\n",
            "8000/8000 [==============================] - 3s 421us/step - loss: 0.4024 - acc: 0.8337\n",
            "Epoch 34/100\n",
            "8000/8000 [==============================] - 3s 419us/step - loss: 0.4023 - acc: 0.8344\n",
            "Epoch 35/100\n",
            "8000/8000 [==============================] - 3s 421us/step - loss: 0.4019 - acc: 0.8361\n",
            "Epoch 36/100\n",
            "8000/8000 [==============================] - 3s 420us/step - loss: 0.4021 - acc: 0.8335\n",
            "Epoch 37/100\n",
            "8000/8000 [==============================] - 3s 418us/step - loss: 0.4022 - acc: 0.8352\n",
            "Epoch 38/100\n",
            "8000/8000 [==============================] - 3s 420us/step - loss: 0.4020 - acc: 0.8342\n",
            "Epoch 39/100\n",
            "8000/8000 [==============================] - 3s 416us/step - loss: 0.4020 - acc: 0.8340\n",
            "Epoch 40/100\n",
            "8000/8000 [==============================] - 3s 419us/step - loss: 0.4018 - acc: 0.8342\n",
            "Epoch 41/100\n",
            "8000/8000 [==============================] - 3s 415us/step - loss: 0.4019 - acc: 0.8354\n",
            "Epoch 42/100\n",
            "8000/8000 [==============================] - 3s 417us/step - loss: 0.4016 - acc: 0.8341\n",
            "Epoch 43/100\n",
            "8000/8000 [==============================] - 3s 422us/step - loss: 0.4019 - acc: 0.8356\n",
            "Epoch 44/100\n",
            "8000/8000 [==============================] - 3s 417us/step - loss: 0.4017 - acc: 0.8352\n",
            "Epoch 45/100\n",
            "8000/8000 [==============================] - 3s 416us/step - loss: 0.4008 - acc: 0.8354\n",
            "Epoch 46/100\n",
            "8000/8000 [==============================] - 3s 417us/step - loss: 0.4012 - acc: 0.8345\n",
            "Epoch 47/100\n",
            "8000/8000 [==============================] - 3s 418us/step - loss: 0.4012 - acc: 0.8337\n",
            "Epoch 48/100\n",
            "8000/8000 [==============================] - 3s 416us/step - loss: 0.4012 - acc: 0.8354\n",
            "Epoch 49/100\n",
            "8000/8000 [==============================] - 3s 421us/step - loss: 0.4017 - acc: 0.8340\n",
            "Epoch 50/100\n",
            "8000/8000 [==============================] - 3s 416us/step - loss: 0.4008 - acc: 0.8352\n",
            "Epoch 51/100\n",
            "8000/8000 [==============================] - 3s 416us/step - loss: 0.4011 - acc: 0.8352\n",
            "Epoch 52/100\n",
            "8000/8000 [==============================] - 3s 414us/step - loss: 0.4008 - acc: 0.8356\n",
            "Epoch 53/100\n",
            "8000/8000 [==============================] - 3s 415us/step - loss: 0.4012 - acc: 0.8349\n",
            "Epoch 54/100\n",
            "8000/8000 [==============================] - 3s 415us/step - loss: 0.4012 - acc: 0.8330\n",
            "Epoch 55/100\n",
            "8000/8000 [==============================] - 3s 413us/step - loss: 0.4015 - acc: 0.8356\n",
            "Epoch 56/100\n",
            "8000/8000 [==============================] - 3s 412us/step - loss: 0.4008 - acc: 0.8347\n",
            "Epoch 57/100\n",
            "8000/8000 [==============================] - 3s 417us/step - loss: 0.4013 - acc: 0.8339\n",
            "Epoch 58/100\n",
            "8000/8000 [==============================] - 3s 414us/step - loss: 0.4011 - acc: 0.8357\n",
            "Epoch 59/100\n",
            "8000/8000 [==============================] - 3s 413us/step - loss: 0.4013 - acc: 0.8352\n",
            "Epoch 60/100\n",
            "8000/8000 [==============================] - 3s 414us/step - loss: 0.4012 - acc: 0.8346\n",
            "Epoch 61/100\n",
            "8000/8000 [==============================] - 3s 414us/step - loss: 0.4010 - acc: 0.8347\n",
            "Epoch 62/100\n",
            "8000/8000 [==============================] - 3s 413us/step - loss: 0.4010 - acc: 0.8347\n",
            "Epoch 63/100\n",
            "8000/8000 [==============================] - 3s 421us/step - loss: 0.4010 - acc: 0.8340\n",
            "Epoch 64/100\n",
            "8000/8000 [==============================] - 5s 627us/step - loss: 0.4003 - acc: 0.8346\n",
            "Epoch 65/100\n",
            "8000/8000 [==============================] - 3s 429us/step - loss: 0.4012 - acc: 0.8342\n",
            "Epoch 66/100\n",
            "8000/8000 [==============================] - 3s 434us/step - loss: 0.4010 - acc: 0.8356\n",
            "Epoch 67/100\n",
            "8000/8000 [==============================] - 3s 433us/step - loss: 0.4006 - acc: 0.8352\n",
            "Epoch 68/100\n",
            "8000/8000 [==============================] - 3s 437us/step - loss: 0.4007 - acc: 0.8346\n",
            "Epoch 69/100\n",
            "8000/8000 [==============================] - 3s 433us/step - loss: 0.4010 - acc: 0.8352\n",
            "Epoch 70/100\n",
            "8000/8000 [==============================] - 3s 430us/step - loss: 0.4008 - acc: 0.8339\n",
            "Epoch 71/100\n",
            "8000/8000 [==============================] - 3s 435us/step - loss: 0.4006 - acc: 0.8341\n",
            "Epoch 72/100\n",
            "8000/8000 [==============================] - 3s 433us/step - loss: 0.4006 - acc: 0.8366\n",
            "Epoch 73/100\n",
            "8000/8000 [==============================] - 3s 432us/step - loss: 0.4000 - acc: 0.8354\n",
            "Epoch 74/100\n",
            "8000/8000 [==============================] - 3s 429us/step - loss: 0.4009 - acc: 0.8354\n",
            "Epoch 75/100\n",
            "8000/8000 [==============================] - 3s 430us/step - loss: 0.4004 - acc: 0.8345\n",
            "Epoch 76/100\n",
            "8000/8000 [==============================] - 3s 426us/step - loss: 0.4006 - acc: 0.8354\n",
            "Epoch 77/100\n",
            "8000/8000 [==============================] - 3s 427us/step - loss: 0.4005 - acc: 0.8349\n",
            "Epoch 78/100\n",
            "8000/8000 [==============================] - 3s 428us/step - loss: 0.4004 - acc: 0.8344\n",
            "Epoch 79/100\n",
            "8000/8000 [==============================] - 3s 432us/step - loss: 0.4008 - acc: 0.8354\n",
            "Epoch 80/100\n",
            "8000/8000 [==============================] - 3s 430us/step - loss: 0.4003 - acc: 0.8340\n",
            "Epoch 81/100\n",
            "8000/8000 [==============================] - 3s 431us/step - loss: 0.4003 - acc: 0.8352\n",
            "Epoch 82/100\n",
            "8000/8000 [==============================] - 3s 432us/step - loss: 0.4004 - acc: 0.8350\n",
            "Epoch 83/100\n",
            "8000/8000 [==============================] - 3s 428us/step - loss: 0.4008 - acc: 0.8346\n",
            "Epoch 84/100\n",
            "8000/8000 [==============================] - 3s 431us/step - loss: 0.4006 - acc: 0.8362\n",
            "Epoch 85/100\n",
            "8000/8000 [==============================] - 3s 427us/step - loss: 0.4003 - acc: 0.8344\n",
            "Epoch 86/100\n",
            "8000/8000 [==============================] - 3s 428us/step - loss: 0.4009 - acc: 0.8360\n",
            "Epoch 87/100\n",
            "8000/8000 [==============================] - 3s 429us/step - loss: 0.4009 - acc: 0.8336\n",
            "Epoch 88/100\n",
            "8000/8000 [==============================] - 3s 431us/step - loss: 0.4011 - acc: 0.8351\n",
            "Epoch 89/100\n",
            "8000/8000 [==============================] - 3s 428us/step - loss: 0.4004 - acc: 0.8361\n",
            "Epoch 90/100\n",
            "8000/8000 [==============================] - 3s 429us/step - loss: 0.4006 - acc: 0.8337\n",
            "Epoch 91/100\n",
            "8000/8000 [==============================] - 3s 429us/step - loss: 0.4004 - acc: 0.8350\n",
            "Epoch 92/100\n",
            "8000/8000 [==============================] - 3s 432us/step - loss: 0.4004 - acc: 0.8346\n",
            "Epoch 93/100\n",
            "8000/8000 [==============================] - 3s 429us/step - loss: 0.4005 - acc: 0.8347\n",
            "Epoch 94/100\n",
            "8000/8000 [==============================] - 3s 434us/step - loss: 0.4006 - acc: 0.8355\n",
            "Epoch 95/100\n",
            "8000/8000 [==============================] - 3s 434us/step - loss: 0.4007 - acc: 0.8347\n",
            "Epoch 96/100\n",
            "8000/8000 [==============================] - 3s 431us/step - loss: 0.4003 - acc: 0.8351\n",
            "Epoch 97/100\n",
            "8000/8000 [==============================] - 3s 432us/step - loss: 0.4006 - acc: 0.8344\n",
            "Epoch 98/100\n",
            "8000/8000 [==============================] - 3s 432us/step - loss: 0.4005 - acc: 0.8364\n",
            "Epoch 99/100\n",
            "8000/8000 [==============================] - 3s 434us/step - loss: 0.4008 - acc: 0.8360\n",
            "Epoch 100/100\n",
            "8000/8000 [==============================] - 3s 433us/step - loss: 0.4001 - acc: 0.8346\n"
          ],
          "name": "stdout"
        },
        {
          "output_type": "execute_result",
          "data": {
            "text/plain": [
              "<keras.callbacks.History at 0x7fbc232f24a8>"
            ]
          },
          "metadata": {
            "tags": []
          },
          "execution_count": 12
        }
      ]
    },
    {
      "metadata": {
        "id": "tsYeTi0UwpOl",
        "colab_type": "text"
      },
      "cell_type": "markdown",
      "source": [
        "지금까지 train 데이터셋을 돌린걸까요 test를 돌린걸까용?"
      ]
    },
    {
      "metadata": {
        "id": "_PuFk8newyCf",
        "colab_type": "code",
        "colab": {}
      },
      "cell_type": "code",
      "source": [
        "y_pred = classifier.predict(X_test)"
      ],
      "execution_count": 0,
      "outputs": []
    },
    {
      "metadata": {
        "id": "iNX9V8t2w8C1",
        "colab_type": "code",
        "colab": {
          "base_uri": "https://localhost:8080/",
          "height": 136
        },
        "outputId": "23b302f2-d7cb-4eda-c38f-b52433018f74"
      },
      "cell_type": "code",
      "source": [
        "y_pred"
      ],
      "execution_count": 14,
      "outputs": [
        {
          "output_type": "execute_result",
          "data": {
            "text/plain": [
              "array([[0.18668869],\n",
              "       [0.3498744 ],\n",
              "       [0.16894227],\n",
              "       ...,\n",
              "       [0.18823317],\n",
              "       [0.13762504],\n",
              "       [0.10647824]], dtype=float32)"
            ]
          },
          "metadata": {
            "tags": []
          },
          "execution_count": 14
        }
      ]
    },
    {
      "metadata": {
        "id": "PrRYAVcDxJmC",
        "colab_type": "text"
      },
      "cell_type": "markdown",
      "source": [
        "지금 이 y_pred는 뭘 뜻하는걸까요? (Logistic Regression 을 다시 떠올려봅시다)"
      ]
    },
    {
      "metadata": {
        "id": "liUDmuIBw-GF",
        "colab_type": "code",
        "colab": {
          "base_uri": "https://localhost:8080/",
          "height": 136
        },
        "outputId": "036a0e85-b0b1-473f-e57d-e2ef84cd4c9a"
      },
      "cell_type": "code",
      "source": [
        "y_pred = (y_pred > 0.5)\n",
        "y_pred"
      ],
      "execution_count": 15,
      "outputs": [
        {
          "output_type": "execute_result",
          "data": {
            "text/plain": [
              "array([[False],\n",
              "       [False],\n",
              "       [False],\n",
              "       ...,\n",
              "       [False],\n",
              "       [False],\n",
              "       [False]])"
            ]
          },
          "metadata": {
            "tags": []
          },
          "execution_count": 15
        }
      ]
    },
    {
      "metadata": {
        "id": "DVeoWB_txWdk",
        "colab_type": "code",
        "colab": {
          "base_uri": "https://localhost:8080/",
          "height": 51
        },
        "outputId": "078fbed7-4fbd-474d-bd70-5b929b121abf"
      },
      "cell_type": "code",
      "source": [
        "from sklearn.metrics import confusion_matrix\n",
        "cm = confusion_matrix(y_test, y_pred)\n",
        "cm"
      ],
      "execution_count": 16,
      "outputs": [
        {
          "output_type": "execute_result",
          "data": {
            "text/plain": [
              "array([[1546,   49],\n",
              "       [ 269,  136]])"
            ]
          },
          "metadata": {
            "tags": []
          },
          "execution_count": 16
        }
      ]
    },
    {
      "metadata": {
        "id": "JN4wnWfoxbw5",
        "colab_type": "code",
        "colab": {
          "base_uri": "https://localhost:8080/",
          "height": 34
        },
        "outputId": "2f863ea1-94c1-4098-a217-e9edd9f6f368"
      },
      "cell_type": "code",
      "source": [
        "(1546+136)/2000"
      ],
      "execution_count": 17,
      "outputs": [
        {
          "output_type": "execute_result",
          "data": {
            "text/plain": [
              "0.841"
            ]
          },
          "metadata": {
            "tags": []
          },
          "execution_count": 17
        }
      ]
    },
    {
      "metadata": {
        "id": "DS3wQfo8xt2X",
        "colab_type": "text"
      },
      "cell_type": "markdown",
      "source": [
        "Congratulations! 이제 우린 딥러닝 할줄 안다고 해도 됩니다!"
      ]
    }
  ]
}