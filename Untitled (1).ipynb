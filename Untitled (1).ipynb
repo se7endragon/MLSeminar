{
 "cells": [
  {
   "cell_type": "markdown",
   "metadata": {},
   "source": [
    "# Machine Learning\n",
    "- 데이터를 이해하기 위해 수학적 모델을 구축하는 것.\n",
    "\n",
    "## Supervised Learning\n",
    "- Definition: Modeling the relationship between data's feature to its label.\n",
    "1. Classification\n",
    "2. Regression\n",
    "\n",
    "##### Classification이냐 Regression이냐는 Label이 continuous하냐 아니냐로 나뉘어짐\n"
   ]
  },
  {
   "cell_type": "markdown",
   "metadata": {},
   "source": [
    "### Model Training in Classfication\n",
    "- Model : A line will classify the classes.\n",
    "- Model Parameters : Certain numbers that define the line.\n",
    "\n",
    "##### whole training process is about these parameters being tuned"
   ]
  },
  {
   "cell_type": "markdown",
   "metadata": {},
   "source": [
    "## Unsupervised Learning\n",
    "- Label is not used\n",
    "- Clustering (레이블과 관계없이 특징들을 바탕으로 클러스터시켜버리는것)\n",
    "- Dimensionality Reduction (차원축소)"
   ]
  },
  {
   "cell_type": "markdown",
   "metadata": {},
   "source": [
    "# Scikit-Learn\n",
    "- Machine Learning algorithms package in python"
   ]
  },
  {
   "cell_type": "code",
   "execution_count": null,
   "metadata": {},
   "outputs": [],
   "source": [
    "import seaborn as sns\n",
    "iris = sns.load_dataset('iris')\n",
    "iris.head()"
   ]
  },
  {
   "cell_type": "code",
   "execution_count": null,
   "metadata": {},
   "outputs": [],
   "source": [
    "%matplotlib inline\n",
    "sns.set()\n",
    "sns.pairplot(iris, hue='species', height=1.5)"
   ]
  },
  {
   "cell_type": "code",
   "execution_count": null,
   "metadata": {},
   "outputs": [],
   "source": [
    "#Creating Feature Matrix\n",
    "X_iris = iris.drop('species', axis=1)\n",
    "X_iris.shape"
   ]
  },
  {
   "cell_type": "code",
   "execution_count": null,
   "metadata": {},
   "outputs": [],
   "source": [
    "#Creating Target Vector\n",
    "y_iris = iris['species']\n",
    "y_iris.shape"
   ]
  },
  {
   "cell_type": "markdown",
   "metadata": {},
   "source": [
    "# Scikit-Learn Workflow\n",
    "\n",
    "1. Choose Model by importing the right estimator class\n",
    "2. Instantiate this class with desired values and choose hyperparameters\n",
    "3. Reconstruct the data as feature matrix and target vector.\n",
    "4. Call model's fit() method to fit the model with data.\n",
    "5. Apply model with new data\n",
    "##### Supervised Learning: use predict() method to predict unknown data's label.\n",
    "##### Unsupervised Learning: use transform() of predict() method to transform the data's feature or predict"
   ]
  },
  {
   "cell_type": "code",
   "execution_count": null,
   "metadata": {},
   "outputs": [],
   "source": [
    "import numpy as np\n",
    "import matplotlib.pyplot as plt\n",
    "\n",
    "#rand() - 0 과 1 사이의 균일분포\n",
    "#randn() - 가우시안 정규 분포\n",
    "rng = np.random.RandomState(42)\n",
    "x = 10 * rng.rand(50)\n",
    "y = 2 * x - 1 + rng.randn(50)\n",
    "plt.scatter(x,y)"
   ]
  },
  {
   "cell_type": "code",
   "execution_count": null,
   "metadata": {},
   "outputs": [],
   "source": [
    "# 1. Choose Model by importing the right estimator class\n",
    "from sklearn.linear_model import LinearRegression"
   ]
  },
  {
   "cell_type": "markdown",
   "metadata": {},
   "source": [
    "## 2. Instantiate this class with desired values and choose hyperparameters\n",
    "#### Few More Things to consider\n",
    "- Offset에 적합시킬 것인가?\n",
    "- Model Normalized or not?\n",
    "- Model 유연성 높이기 위해 Feature을 전처리 할건가?\n",
    "- 모델에서 어느정도의 Normalization을 할 건지?\n",
    "- 얼마나 많은 모델 성분을 사용할건지?"
   ]
  },
  {
   "cell_type": "code",
   "execution_count": null,
   "metadata": {},
   "outputs": [],
   "source": [
    "# 2. Instantiate this class with desired values and choose hyperparameters\n",
    "model = LinearRegression(fit_intercept=True)\n",
    "model"
   ]
  },
  {
   "cell_type": "code",
   "execution_count": null,
   "metadata": {},
   "outputs": [],
   "source": [
    "# 3. Reconstruct the data as feature matrix and target vector.\n",
    "# Feature Matrix = (n_samples, n_features)\n",
    "# Target Vector = (n_samples)\n",
    "#여기서 X 는 feature가 단순한 값이기 때문에 걍 차원만 늘려줌.\n",
    "\n",
    "X = x[:, np.newaxis]\n",
    "X.shape"
   ]
  },
  {
   "cell_type": "code",
   "execution_count": null,
   "metadata": {},
   "outputs": [],
   "source": [
    "# 4. Call model's fit() method to fit the model with data.\n",
    "model.fit(X, y)"
   ]
  },
  {
   "cell_type": "code",
   "execution_count": null,
   "metadata": {},
   "outputs": [],
   "source": [
    "#what happened? lets see\n",
    "model.coef_"
   ]
  },
  {
   "cell_type": "code",
   "execution_count": null,
   "metadata": {},
   "outputs": [],
   "source": [
    "model.intercept_"
   ]
  },
  {
   "cell_type": "code",
   "execution_count": null,
   "metadata": {},
   "outputs": [],
   "source": [
    "# 5. Apply model with new data\n",
    "xfit = np.linspace(-1,11)"
   ]
  },
  {
   "cell_type": "code",
   "execution_count": null,
   "metadata": {},
   "outputs": [],
   "source": [
    "Xfit = xfit[:,np.newaxis] # (n_samples,n_features)로 맞춰줘야되기때문.\n",
    "yfit = model.predict(Xfit) # prediction based on fitted model's coef with intercept applied"
   ]
  },
  {
   "cell_type": "code",
   "execution_count": null,
   "metadata": {},
   "outputs": [],
   "source": [
    "plt.scatter(x, y)\n",
    "plt.plot(xfit, yfit)"
   ]
  },
  {
   "cell_type": "markdown",
   "metadata": {},
   "source": [
    "# Supervised Learning: Gaussian Naive Bayes Classification"
   ]
  },
  {
   "cell_type": "code",
   "execution_count": null,
   "metadata": {},
   "outputs": [],
   "source": [
    "from sklearn.model_selection import train_test_split # for splitting data into test and train\n",
    "Xtrain, Xtest, ytrain, ytest = train_test_split(X_iris, y_iris, random_state = 1)"
   ]
  },
  {
   "cell_type": "code",
   "execution_count": null,
   "metadata": {},
   "outputs": [],
   "source": [
    "from sklearn.naive_bayes import GaussianNB # Model class selection\n",
    "model = GaussianNB()                       # Model instantiate\n",
    "model.fit(Xtrain, ytrain)                  # Model fit to data\n",
    "y_model = model.predict(Xtest)             # Predict on unseen data"
   ]
  },
  {
   "cell_type": "code",
   "execution_count": null,
   "metadata": {},
   "outputs": [],
   "source": [
    "from sklearn.metrics import accuracy_score\n",
    "accuracy_score(ytest, y_model) "
   ]
  },
  {
   "cell_type": "markdown",
   "metadata": {},
   "source": [
    "# Unsupervised Example : 차원 축소"
   ]
  },
  {
   "cell_type": "code",
   "execution_count": null,
   "metadata": {},
   "outputs": [],
   "source": [
    "from sklearn.decomposition import PCA # Model class selection\n",
    "model = PCA(n_components = 2)         # Model Instantiate with hyperparameter\n",
    "model.fit(X_iris)                     # Fit to data. This time, no y is needed since we're just reducting demension\n",
    "X_2D = model.transform(X_iris)        # Convert data into 2 dimension"
   ]
  },
  {
   "cell_type": "code",
   "execution_count": null,
   "metadata": {},
   "outputs": [],
   "source": [
    "iris['PCA1'] = X_2D[:,0]\n",
    "iris['PCA2'] = X_2D[:,1]\n",
    "sns.lmplot(\"PCA1\",\"PCA2\", hue='species', data = iris, fit_reg=False)"
   ]
  },
  {
   "cell_type": "markdown",
   "metadata": {},
   "source": [
    "# Unsupervised Example : Clustering"
   ]
  },
  {
   "cell_type": "code",
   "execution_count": null,
   "metadata": {},
   "outputs": [],
   "source": [
    "from sklearn.mixture import GaussianMixture                       #Model Selection\n",
    "model = GaussianMixture(n_components=3, covariance_type='full')   #Model Instantiation with hyperparameters\n",
    "model.fit(X_iris)                                                 #Model fit to iris data\n",
    "y_gmm = model.predict(X_iris)                                     #Clustering label"
   ]
  },
  {
   "cell_type": "code",
   "execution_count": null,
   "metadata": {},
   "outputs": [],
   "source": [
    "iris['cluster'] = y_gmm\n",
    "sns.lmplot(\"PCA1\",\"PCA2\", data=iris, hue='species', col = 'cluster', fit_reg=False)"
   ]
  },
  {
   "cell_type": "markdown",
   "metadata": {},
   "source": [
    "# Exercise\n",
    "- Digits 데이터셋에 대한 Classification 모델을 만들어보세요.\n",
    "- 데이터셋을 test와 train으로 split하여 모델 예측력까지 뽑아보세요."
   ]
  },
  {
   "cell_type": "code",
   "execution_count": null,
   "metadata": {},
   "outputs": [],
   "source": [
    "from sklearn.datasets import load_digits\n",
    "digits = load_digits()"
   ]
  },
  {
   "cell_type": "code",
   "execution_count": null,
   "metadata": {},
   "outputs": [],
   "source": [
    "X = digits.data\n",
    "y = digits.target\n",
    "Xtrain, Xtest, ytrain, ytest = train_test_split(X,y, random_state= 0) #splitting dataset\n",
    "model = GaussianNB() #Model Instantiation\n",
    "model.fit(Xtrain,ytrain) #Model Fit to data\n",
    "y_model = model.predict(Xtest) #Model prediction with new data"
   ]
  },
  {
   "cell_type": "code",
   "execution_count": null,
   "metadata": {},
   "outputs": [],
   "source": [
    "accuracy_score(ytest, y_model)"
   ]
  },
  {
   "cell_type": "markdown",
   "metadata": {},
   "source": [
    "# Confusion Matrix\n",
    "- 위 모델이 예측력이 어느정도나왔는데, 그 예측력의 근거되는 정보를 보기 위함."
   ]
  },
  {
   "cell_type": "code",
   "execution_count": null,
   "metadata": {},
   "outputs": [],
   "source": [
    "from sklearn.metrics import confusion_matrix\n",
    "mat = confusion_matrix(ytest, y_model)\n",
    "sns.heatmap(mat, square = True, annot=True, cbar=False)\n",
    "plt.xlabel('predicted value')\n",
    "plt.ylabel('true value')"
   ]
  },
  {
   "cell_type": "markdown",
   "metadata": {},
   "source": [
    "# Hyperparameter and Model Validation\n",
    "- Choosing right Hyperparameter is important\n",
    "- Model Validation is allso important"
   ]
  },
  {
   "cell_type": "code",
   "execution_count": null,
   "metadata": {},
   "outputs": [],
   "source": [
    "from sklearn.datasets import load_iris\n",
    "iris = load_iris()\n",
    "X = iris.data\n",
    "y = iris.target\n",
    "\n",
    "#Now we choose model and hyperparameter\n",
    "from sklearn.neighbors import KNeighborsClassifier\n",
    "model = KNeighborsClassifier(n_neighbors = 1)\n",
    "model.fit(X,y)\n",
    "y_model = model.predict(X)\n",
    "accuracy_score(y,y_model)\n",
    "\n",
    "#Accuracy가 몇정도 나올까요?"
   ]
  },
  {
   "cell_type": "code",
   "execution_count": null,
   "metadata": {},
   "outputs": [],
   "source": [
    "# Self-Excercise : The above model validation has a serious flaw. Tune it to have a right structure."
   ]
  },
  {
   "cell_type": "markdown",
   "metadata": {},
   "source": [
    "# Types of Model Validation\n",
    "1. Holdout set (what we've been covering)\n",
    "2. Cross-Validation ****\n",
    "\n",
    "##### Cross-Validation\n",
    "- 데이터가 100개가 있으면, holdout set을 두번 돌린다고 생각하면 된다.\n",
    "- 1번째때 1~50 까지 train, 51~100 test. 2번째땐 반대로 51~100 train, 1~50 test.\n",
    "    "
   ]
  },
  {
   "cell_type": "code",
   "execution_count": null,
   "metadata": {},
   "outputs": [],
   "source": [
    "#holdout set method\n",
    "X1, X2, y1, y2 = train_test_split(X, y, random_state=0, train_size = 0.5)\n",
    "model.fit(X1,y1)\n",
    "y_model = model.predict(X2)\n",
    "accuracy_score(y2,y_model)"
   ]
  },
  {
   "cell_type": "code",
   "execution_count": null,
   "metadata": {},
   "outputs": [],
   "source": [
    "#Cross-Validation method\n",
    "y1_model = model.fit(X2,y2).predict(X1)\n",
    "y2_model = model.fit(X1,y1).predict(X2)\n",
    "accuracy_score(y1,y1_model), accuracy_score(y2,y2_model)"
   ]
  },
  {
   "cell_type": "markdown",
   "metadata": {},
   "source": [
    "- 위에서는 데이터를 2개로 나눠서 진행한 Cross-Validation이므로 two-fold cross-validation이라고 지칭.\n",
    "- 논문읽다보면 많이 나오는 k-fold 에서 k 가 데이터셋을 k만큼나눈걸 의미한다는걸 알수있죠"
   ]
  },
  {
   "cell_type": "code",
   "execution_count": null,
   "metadata": {},
   "outputs": [],
   "source": [
    "#5-fold cross-validation example\n",
    "from sklearn.model_selection import cross_val_score\n",
    "cross_val_score(model, X, y, cv=5)"
   ]
  },
  {
   "cell_type": "markdown",
   "metadata": {},
   "source": [
    "# Selecting Best Model\n",
    "- Validation 방법도 중요하지만 결국엔 Hyperparameter Tuning이 Machine Learning Practicitioner의 실력을 좌우함.\n",
    "- 어떤 모델을 가지고 어떤 Hyperparamter 값으로 학습시킬지가 관건.\n",
    "- 그럼 하이퍼파라미터는(초모수) 뭔가요?\n",
    "\n",
    "## Hyperparameter vs Parameter\n",
    "- Parameter : Values that are derived and change during training process\n",
    "- Hyperparameter : Parameters whose values are pre-defined before learning process begins.\n",
    "\n",
    "- Ex : Number of layers in NN, Learning Rate, Depth of Decision Tree etc."
   ]
  },
  {
   "cell_type": "markdown",
   "metadata": {},
   "source": [
    "##### So how to choose best model?\n",
    "- Bias : 얼마나 모델이 욕심쟁이 인지에 관한 수치. High bias == Underfit\n",
    "- Variance : 얼마나 모델이 유도리가 없는지에 관한 수치. High Variance == Overfit\n",
    "- Finding 황금 밸런스 between bias and variance is the mission\n",
    "- 황금 밸런스 == Good model complexity that is not too complex(high variance) and not too simple(high bias)"
   ]
  },
  {
   "attachments": {
    "image.png": {
     "image/png": "[encoded data removed]"
    }
   },
   "cell_type": "markdown",
   "metadata": {},
   "source": [
    "￼![image.png](attachment:image.png)"
   ]
  },
  {
   "cell_type": "code",
   "execution_count": null,
   "metadata": {},
   "outputs": [],
   "source": [
    "#Validation curves in Scikit-Learn\n",
    "from sklearn.preprocessing import PolynomialFeatures\n",
    "from sklearn.linear_model import LinearRegression\n",
    "from sklearn.pipeline import make_pipeline\n",
    "\n",
    "def PolynomialRegression(degree=2, **kwargs):\n",
    "    return make_pipeline(PolynomialFeatures(degree),LinearRegression(**kwargs))\n",
    "\n",
    "def make_data(N, err=1.0, rseed=1):\n",
    "    rng = np.random.RandomState(rseed)\n",
    "    X = rng.rand(N, 1) ** 2\n",
    "    y = 10 - 1. / (X.ravel() + 0.1) # ravel() flattens the array to 1D\n",
    "    if err > 0:\n",
    "        y += err * rng.randn(N)\n",
    "    return X, y\n",
    "\n",
    "X, y = make_data(40)"
   ]
  },
  {
   "cell_type": "code",
   "execution_count": null,
   "metadata": {},
   "outputs": [],
   "source": [
    "%matplotlib inline\n",
    "sns.set()\n",
    "X_test = np.linspace(-0.1, 1.1, 500) [:, None]\n",
    "\n",
    "plt.scatter(X.ravel(),y,color='black')\n",
    "axis = plt.axis()\n",
    "for degree in [1,3,5]:\n",
    "    y_test = PolynomialRegression(degree).fit(X, y).predict(X_test)\n",
    "    plt.plot(X_test.ravel(), y_test, label='degree = {0}'.format(degree))\n",
    "plt.xlim(-0.1, 1.0)\n",
    "plt.ylim(-2, 12)\n",
    "plt.legend(loc = 'best')"
   ]
  },
  {
   "cell_type": "code",
   "execution_count": null,
   "metadata": {},
   "outputs": [],
   "source": [
    "from sklearn.model_selection import validation_curve\n",
    "degree = np.arange(0,21)\n",
    "train_score, val_score = validation_curve(PolynomialRegression(),X, y, 'polynomialfeatures__degree', degree, cv=7)\n",
    "plt.plot(degree, np.median(train_score, 1), color='blue', label= 'training score')\n",
    "plt.plot(degree, np.median(val_score, 1), color='red', label='validation score')\n",
    "plt.legend(loc='best')\n",
    "plt.ylim(0,1)\n",
    "plt.xlabel('degree')\n",
    "plt.ylabel('score')"
   ]
  },
  {
   "cell_type": "code",
   "execution_count": null,
   "metadata": {},
   "outputs": [],
   "source": [
    "# 3rd degree seems the best complexity for the model.\n",
    "plt.scatter(X.ravel(),y)\n",
    "lim = plt.axis()\n",
    "y_test = PolynomialRegression(3).fit(X,y).predict(X_test)\n",
    "plt.plot(X_test.ravel(),y_test)\n",
    "plt.axis(lim)"
   ]
  },
  {
   "cell_type": "markdown",
   "metadata": {},
   "source": [
    "### Learning Curves\n",
    "- 최적의 Model Complexity는 training data의 사이즈에 dependent하다."
   ]
  },
  {
   "cell_type": "code",
   "execution_count": null,
   "metadata": {},
   "outputs": [],
   "source": [
    "X2, y2 = make_data(200)\n",
    "plt.scatter(X2.ravel(), y2)"
   ]
  },
  {
   "cell_type": "code",
   "execution_count": null,
   "metadata": {},
   "outputs": [],
   "source": [
    "degree = np.arange(21)\n",
    "train_score2, val_score2 = validation_curve(PolynomialRegression(),X2, y2, 'polynomialfeatures__degree',degree, cv=7)\n",
    "plt.plot(degree, np.median(train_score2, 1), color = 'blue', label='training score')\n",
    "plt.plot(degree, np.median(val_score2, 1), color='red', label='validation score')\n",
    "plt.plot(degree, np.median(train_score, 1), color='blue', alpha=0.3, linestyle='dashed')\n",
    "plt.plot(degree, np.median(val_score, 1), color='red', alpha=0.3, linestyle='dashed')\n",
    "plt.legend(loc='lower center')\n",
    "plt.ylim(0,1)\n",
    "plt.xlabel('degree')\n",
    "plt.ylabel('score')"
   ]
  },
  {
   "cell_type": "markdown",
   "metadata": {},
   "source": [
    "# 2 important inputs of the validation curve are 1) Model Complexity 2) Training Points\n",
    "\n",
    "- 다시 말해서, Training dataset의 크기가 Learning Curve에 중요한 요소이므로 어느정도의 크기로 train/test data split을 할지를 Learning Curve 를 이용하여 알아낼 수 있음\n",
    "- 단, 어느 한 기점으로 train/validation score가 converge하므로 그 이후부턴 데이터를 더 집어넣어도 별 소용없다는 뜻도 됨\n"
   ]
  },
  {
   "attachments": {
    "image.png": {
     "image/png": "[encoded data removed]"
    }
   },
   "cell_type": "markdown",
   "metadata": {},
   "source": [
    "￼![image.png](attachment:image.png)"
   ]
  },
  {
   "cell_type": "code",
   "execution_count": null,
   "metadata": {},
   "outputs": [],
   "source": [
    "from sklearn.model_selection import learning_curve\n",
    "fig, ax = plt.subplots(1,2,figsize=(16,6))\n",
    "fig.subplots_adjust(left=0.0625, right=0.95, wspace = 0.1)\n",
    "for i, degree in enumerate([2,9]):\n",
    "    N, train_lc, val_lc = learning_curve(PolynomialRegression(degree), X, y, cv=7, train_sizes=np.linspace(0.3, 1, 25))\n",
    "    ax[i].plot(N, np.mean(train_lc, 1), color='blue', label='training score')\n",
    "    ax[i].plot(N, np.mean(val_lc, 1), color='red', label='validation score')\n",
    "    ax[i].hlines(np.mean([train_lc[-1], val_lc[-1]]),N[0],N[-1], color='gray',linestyle='dashed')\n",
    "    ax[i].set_ylim(0,1)\n",
    "    ax[i].set_xlim(N[0],N[-1])\n",
    "    ax[i].set_xlabel('training size')\n",
    "    ax[i].set_ylabel('score')\n",
    "    ax[i].set_title('degree = {0}'.format(degree), size=14)\n",
    "    ax[i].legend(loc='best')\n",
    "    "
   ]
  },
  {
   "cell_type": "markdown",
   "metadata": {},
   "source": [
    "##### 위 플롯에서 볼 수 있듯이, 2nd degree complexity를 가진 모델에서는 데이터사이즈가 22정도부터 이미 converge 되서 그이후부턴 비슷하지만, 더 complex 한 9th degree 모델에서는 converging point가 늘어난것을 볼수있다. 여기에서 오는 부작용은 2nd degree모델에 비해 더 overfitting 하다는 점."
   ]
  },
  {
   "cell_type": "markdown",
   "metadata": {},
   "source": [
    "# Grid-Search\n",
    "- 이제까지는 Bias,Variance를 조정하는 방법을 알아보며\n",
    "- 그에 따른 model complexity 와 training data size 에 대한 모델의 의존도도 알아봄.\n",
    "- 하지만 실제 practice에서는 parameter가 위에처럼 간단하지않고 다차원으로 이루어져있기에 시각화를 하여 최적의 모델 선택이 힘듬.\n",
    "- 그래서 Grid-Search를 쓰면됨.\n",
    "\n",
    "#### Grid-Search란?\n",
    "- 흔히 말하는 하나하나씩 다 때려박아보면서 grid에 흔적을 남기고 그걸 사람이 보면서 optimal 한 세팅을 찾는것임."
   ]
  },
  {
   "cell_type": "code",
   "execution_count": null,
   "metadata": {},
   "outputs": [],
   "source": [
    "from sklearn.model_selection import GridSearchCV\n",
    "#다 때려박아볼 파라미터들을 세팅하는 그리드를 먼저 만든다.\n",
    "param_grid = {'polynomialfeatures__degree':np.arange(21), \n",
    "             'linearregression__fit_intercept':[True,False],\n",
    "             'linearregression__normalize':[True, False]}\n",
    "\n",
    "\n",
    "grid = GridSearchCV(PolynomialRegression(), param_grid, cv=7)"
   ]
  },
  {
   "cell_type": "code",
   "execution_count": null,
   "metadata": {},
   "outputs": [],
   "source": [
    "#이제 데이터에 fit 시켜봅시다\n",
    "grid.fit(X, y)"
   ]
  },
  {
   "cell_type": "code",
   "execution_count": null,
   "metadata": {},
   "outputs": [],
   "source": [
    "#fit 한 결과 베스트한 hyperparameter는 뭘까?\n",
    "grid.best_params_"
   ]
  },
  {
   "cell_type": "code",
   "execution_count": null,
   "metadata": {},
   "outputs": [],
   "source": [
    "model = grid.best_estimator_\n",
    "plt.scatter(X.ravel(),y)\n",
    "lim = plt.axis()\n",
    "y_test = model.fit(X, y).predict(X_test)\n",
    "plt.plot(X_test.ravel(), y_test)\n",
    "plt.axis(lim)"
   ]
  },
  {
   "cell_type": "markdown",
   "metadata": {},
   "source": [
    "# Feature Engineering\n",
    "- Real-World Data do not form the perfect (n_samples,n_features) format\n",
    "- Feature engineering is about taking the information into number representations to build feature matrix"
   ]
  },
  {
   "cell_type": "markdown",
   "metadata": {},
   "source": [
    "### Categoriacal Features\n",
    "- 아파트 주민의 호구조사 할때 동 feature (401동 < 402동? 오더링이들어가면안되죠)\n",
    "- Use One-Hot-Encoding"
   ]
  },
  {
   "cell_type": "markdown",
   "metadata": {},
   "source": [
    "##### What is One-Hot-Encoding?\n",
    "- Sparce Vector formed with 0(Not present)s and 1(Present).\n",
    "- For example, 9 labels can be represented as n=9 Vector. each index represents each label."
   ]
  },
  {
   "cell_type": "code",
   "execution_count": null,
   "metadata": {},
   "outputs": [],
   "source": [
    "from sklearn.feature_extraction import DictVectorizer\n",
    "data = [{'price': 850000, 'rooms': 4, 'neighborhood': 'Tae-Won-Woo'},\n",
    "       {'price': 450000, 'rooms': 2, 'neighborhood': 'Hyun-Bo-Shin'},\n",
    "       {'price': 8900000, 'rooms': 10, 'neighborhood': 'In-A-Lee'},\n",
    "       {'price': 50000, 'rooms': 1, 'neighborhood': 'Doo-Sol-Han'}]\n",
    "vec = DictVectorizer(sparse=False, dtype=int)\n",
    "vec.fit_transform(data)"
   ]
  },
  {
   "cell_type": "code",
   "execution_count": null,
   "metadata": {},
   "outputs": [],
   "source": [
    "#Which vector corresponds to which neighbor?\n",
    "vec.get_feature_names()"
   ]
  },
  {
   "cell_type": "markdown",
   "metadata": {},
   "source": [
    "### Text Features\n",
    "- NLP for word-representation\n",
    "- Word cout, Word-Embedding etc."
   ]
  },
  {
   "cell_type": "code",
   "execution_count": null,
   "metadata": {},
   "outputs": [],
   "source": [
    "#word count example\n",
    "sample = ['problem of evil','evil queen','horizon problem']\n",
    "from sklearn.feature_extraction.text import CountVectorizer\n",
    "vec = CountVectorizer()\n",
    "X = vec.fit_transform(sample)\n",
    "X"
   ]
  },
  {
   "cell_type": "code",
   "execution_count": null,
   "metadata": {},
   "outputs": [],
   "source": [
    "import pandas as pd\n",
    "pd.DataFrame(X.toarray(), columns = vec.get_feature_names())"
   ]
  },
  {
   "cell_type": "code",
   "execution_count": null,
   "metadata": {},
   "outputs": [],
   "source": [
    "#영어에서 자주 등장하는 a 같은 애들때문에 이런 방법은 단점이 있어서 TF-IDF를 사용할수도있음.\n",
    "#TF-IDF로 문서 전체적으로 빈도율 조사 후 각 단어의 weight을 빈도를 고려해서 때림.\n",
    "\n",
    "from sklearn.feature_extraction.text import TfidfVectorizer\n",
    "vec = TfidfVectorizer()\n",
    "X = vec.fit_transform(sample)\n",
    "pd.DataFrame(X.toarray(),columns=vec.get_feature_names())"
   ]
  },
  {
   "cell_type": "markdown",
   "metadata": {},
   "source": [
    "### Image Features\n",
    "- 책에서 너무 복잡하니까 넘어가겠다고 멘션.\n",
    "- 근데 어찌됫든 그림은 픽셀화시켜서 CNN에서 돌리듯 feature extraction하면 됨."
   ]
  },
  {
   "cell_type": "markdown",
   "metadata": {},
   "source": [
    "### Derived Features\n",
    "- 하이퍼파라미터 섹션에서도 봣듯이, 원레 1차원인 데이터를 다차원화 시켜서 모델에 적용시키는걸 볼수있었음.\n",
    "- 중요한건 모델을 바꾸는게 아니라, input 을 transform 시키는 것."
   ]
  },
  {
   "cell_type": "code",
   "execution_count": null,
   "metadata": {},
   "outputs": [],
   "source": [
    "x = np.array([1,2,3,4,5])\n",
    "y = np.array([4,2,1,3,7])\n",
    "plt.scatter(x,y)"
   ]
  },
  {
   "cell_type": "code",
   "execution_count": null,
   "metadata": {},
   "outputs": [],
   "source": [
    "#위와 같은 점들은 분명 linear regression 으로 좋은 fit을 나타낼수 없지만 일단 맨땅에 헤딩\n",
    "X = x[:,np.newaxis] #이건 1차원임 계속. 단지 scikit-learn 의 feature-matrix 컨벤션 맞추기용(n_samples,n_features)\n",
    "model = LinearRegression().fit(X, y)\n",
    "yfit = model.predict(X)\n",
    "plt.scatter(x,y)\n",
    "plt.plot(x, yfit)"
   ]
  },
  {
   "cell_type": "code",
   "execution_count": null,
   "metadata": {},
   "outputs": [],
   "source": [
    "#그럼 input data를 1차원feature 에서 다차원으로 transform 해본다면?\n",
    "#여기서 주의할점은 애초에 feature가 1차원이니까 다차원으로변형되도 일관성있는 의미를 가져야함.\n",
    "poly = PolynomialFeatures(degree=3, include_bias=False)\n",
    "X2 = poly.fit_transform(X) #3차원에 맞게 늘려라\n",
    "print(X2)"
   ]
  },
  {
   "cell_type": "code",
   "execution_count": null,
   "metadata": {},
   "outputs": [],
   "source": [
    "#위의 아웃풋은 그냥 col1= x , col2 = x^2, col3 = x^3 인것을 볼수있다.\n",
    "#그럼 이제 다시 리그레션을 해보자.\n",
    "model = LinearRegression().fit(X2, y)\n",
    "yfit = model.predict(X2)\n",
    "plt.scatter(x,y)\n",
    "plt.plot(x,yfit)"
   ]
  },
  {
   "cell_type": "markdown",
   "metadata": {},
   "source": [
    "### Imputation of Missing Data\n",
    "- Nan같이 데이터 내 missing Value가 있으면 모델의 feature type에 따라서 적절하게 채워줘야함.\n",
    "- 이걸 imputation이라고 함.\n",
    "- 이건 근데 sklearn.impute.SimpleImputer 클래스로 전처리 해주면 되고 너무 application-specific한 문제라 간단하게 짚고 넘어가서 여기선 스킵을 하겠습니다."
   ]
  },
  {
   "cell_type": "markdown",
   "metadata": {},
   "source": [
    "### Feature Pipelines\n",
    "- 이제까지 배운 모든 내용을 하나 하나 노가다로 하기엔 너무 복잡할 수 있습니다.\n",
    "- 그래서 준비한 것이 sklearn의 pipeline 클래스."
   ]
  },
  {
   "cell_type": "code",
   "execution_count": null,
   "metadata": {},
   "outputs": [],
   "source": [
    "from sklearn.impute import SimpleImputer\n",
    "from sklearn.pipeline import make_pipeline\n",
    "model = make_pipeline(SimpleImputer(strategy='mean'),PolynomialFeatures(degree=2),LinearRegression())\n",
    "#이렇게 하면 model안에 feature 처리과정을 모두 담아냈으므로 standard하게 fit하고 predict 하면 됩니다.\n",
    "\n",
    "model.fit(X, y)\n",
    "print(y)\n",
    "print(model.predict(X))"
   ]
  }
 ],
 "metadata": {
  "kernelspec": {
   "display_name": "Python 3",
   "language": "python",
   "name": "python3"
  },
  "language_info": {
   "codemirror_mode": {
    "name": "ipython",
    "version": 3
   },
   "file_extension": ".py",
   "mimetype": "text/x-python",
   "name": "python",
   "nbconvert_exporter": "python",
   "pygments_lexer": "ipython3",
   "version": "3.6.6"
  }
 },
 "nbformat": 4,
 "nbformat_minor": 2
}
